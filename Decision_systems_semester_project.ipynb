{
 "cells": [
  {
   "cell_type": "markdown",
   "metadata": {},
   "source": [
    "<h1>Semester Project for Decision Systems 2020/2021 (University of Warsaw)<h1>\n",
    "    <h2>Joanna Kęczkowska<h2>"
   ]
  },
  {
   "cell_type": "markdown",
   "metadata": {},
   "source": [
    "The goal of the competition is to create an efficient model for predicting whether the total 14-days sales of a particular product, offered by the Fitfood company at one of their FitBoxy locations in Poland, will exceed four pieces.\n",
    "\n",
    "Provided data describe a short-term sales history of products at various point of sales (PoS). The target attribute will_it_sell tells if in the following 14 day period the total sales of a given product at a particular location will be at least 4 pcs. \n",
    "\n",
    "The data tables are provided as two CSV files with the ';' separator sign."
   ]
  },
  {
   "cell_type": "markdown",
   "metadata": {},
   "source": [
    "<h3>Data preparation<h3>"
   ]
  },
  {
   "cell_type": "code",
   "execution_count": 1,
   "metadata": {},
   "outputs": [],
   "source": [
    "import pandas as pd"
   ]
  },
  {
   "cell_type": "code",
   "execution_count": 2,
   "metadata": {},
   "outputs": [
    {
     "data": {
      "text/plain": [
       "(531824, 97)"
      ]
     },
     "execution_count": 2,
     "metadata": {},
     "output_type": "execute_result"
    }
   ],
   "source": [
    "dataSet = pd.read_csv(\"FitFood_competition_data_training.csv\", sep=';')\n",
    "dataSet.shape"
   ]
  },
  {
   "cell_type": "code",
   "execution_count": 3,
   "metadata": {},
   "outputs": [
    {
     "data": {
      "text/html": [
       "<div>\n",
       "<style scoped>\n",
       "    .dataframe tbody tr th:only-of-type {\n",
       "        vertical-align: middle;\n",
       "    }\n",
       "\n",
       "    .dataframe tbody tr th {\n",
       "        vertical-align: top;\n",
       "    }\n",
       "\n",
       "    .dataframe thead th {\n",
       "        text-align: right;\n",
       "    }\n",
       "</style>\n",
       "<table border=\"1\" class=\"dataframe\">\n",
       "  <thead>\n",
       "    <tr style=\"text-align: right;\">\n",
       "      <th></th>\n",
       "      <th>will_it_sell</th>\n",
       "      <th>product_id_unified</th>\n",
       "      <th>partner_product</th>\n",
       "      <th>cooking_mv</th>\n",
       "      <th>cooking_ov</th>\n",
       "      <th>vat</th>\n",
       "      <th>bialko_100</th>\n",
       "      <th>weglow_100</th>\n",
       "      <th>cukry_calk</th>\n",
       "      <th>tluszcz_nasyc_calk</th>\n",
       "      <th>...</th>\n",
       "      <th>avg_total_to_discount_lag1</th>\n",
       "      <th>avg_total_base_lag1</th>\n",
       "      <th>avg_sum_fv_lag1</th>\n",
       "      <th>avg_transaction_discount_count_lag1</th>\n",
       "      <th>roc1_lag1</th>\n",
       "      <th>rocPeriod_lag1</th>\n",
       "      <th>days_since_prev_delivery</th>\n",
       "      <th>sales_since_prev_delivery</th>\n",
       "      <th>available_products</th>\n",
       "      <th>is_delivery_day</th>\n",
       "    </tr>\n",
       "  </thead>\n",
       "  <tbody>\n",
       "    <tr>\n",
       "      <th>count</th>\n",
       "      <td>531824.000000</td>\n",
       "      <td>531824.000000</td>\n",
       "      <td>531824.000000</td>\n",
       "      <td>231884.0</td>\n",
       "      <td>231884.0</td>\n",
       "      <td>531824.000000</td>\n",
       "      <td>496291.00000</td>\n",
       "      <td>496290.000000</td>\n",
       "      <td>496202.000000</td>\n",
       "      <td>496202.000000</td>\n",
       "      <td>...</td>\n",
       "      <td>5.288900e+05</td>\n",
       "      <td>528890.000000</td>\n",
       "      <td>528890.0</td>\n",
       "      <td>528890.000000</td>\n",
       "      <td>528890.000000</td>\n",
       "      <td>528890.000000</td>\n",
       "      <td>474094.000000</td>\n",
       "      <td>474094.000000</td>\n",
       "      <td>476634.000000</td>\n",
       "      <td>531823.000000</td>\n",
       "    </tr>\n",
       "    <tr>\n",
       "      <th>mean</th>\n",
       "      <td>0.119477</td>\n",
       "      <td>1104.984531</td>\n",
       "      <td>0.091600</td>\n",
       "      <td>1.0</td>\n",
       "      <td>1.0</td>\n",
       "      <td>6.628563</td>\n",
       "      <td>7.47106</td>\n",
       "      <td>19.206512</td>\n",
       "      <td>8.332242</td>\n",
       "      <td>3.861230</td>\n",
       "      <td>...</td>\n",
       "      <td>7.927875e-01</td>\n",
       "      <td>3.106582</td>\n",
       "      <td>0.0</td>\n",
       "      <td>0.098661</td>\n",
       "      <td>-0.001819</td>\n",
       "      <td>-0.008464</td>\n",
       "      <td>16.806237</td>\n",
       "      <td>0.351909</td>\n",
       "      <td>1.197972</td>\n",
       "      <td>0.118019</td>\n",
       "    </tr>\n",
       "    <tr>\n",
       "      <th>std</th>\n",
       "      <td>0.324350</td>\n",
       "      <td>55.861218</td>\n",
       "      <td>0.288461</td>\n",
       "      <td>0.0</td>\n",
       "      <td>0.0</td>\n",
       "      <td>4.417655</td>\n",
       "      <td>6.73606</td>\n",
       "      <td>15.012734</td>\n",
       "      <td>7.248779</td>\n",
       "      <td>3.268845</td>\n",
       "      <td>...</td>\n",
       "      <td>3.095363e+00</td>\n",
       "      <td>6.165410</td>\n",
       "      <td>0.0</td>\n",
       "      <td>0.292494</td>\n",
       "      <td>0.237530</td>\n",
       "      <td>0.622241</td>\n",
       "      <td>30.601578</td>\n",
       "      <td>1.024078</td>\n",
       "      <td>3.569655</td>\n",
       "      <td>0.322630</td>\n",
       "    </tr>\n",
       "    <tr>\n",
       "      <th>min</th>\n",
       "      <td>0.000000</td>\n",
       "      <td>1004.000000</td>\n",
       "      <td>0.000000</td>\n",
       "      <td>1.0</td>\n",
       "      <td>1.0</td>\n",
       "      <td>5.000000</td>\n",
       "      <td>0.00000</td>\n",
       "      <td>2.700000</td>\n",
       "      <td>0.200000</td>\n",
       "      <td>0.000000</td>\n",
       "      <td>...</td>\n",
       "      <td>-1.421085e-13</td>\n",
       "      <td>0.000000</td>\n",
       "      <td>0.0</td>\n",
       "      <td>0.000000</td>\n",
       "      <td>-2.772589</td>\n",
       "      <td>-3.465736</td>\n",
       "      <td>1.000000</td>\n",
       "      <td>0.000000</td>\n",
       "      <td>-24.000000</td>\n",
       "      <td>0.000000</td>\n",
       "    </tr>\n",
       "    <tr>\n",
       "      <th>25%</th>\n",
       "      <td>0.000000</td>\n",
       "      <td>1057.000000</td>\n",
       "      <td>0.000000</td>\n",
       "      <td>1.0</td>\n",
       "      <td>1.0</td>\n",
       "      <td>5.000000</td>\n",
       "      <td>3.20000</td>\n",
       "      <td>9.200000</td>\n",
       "      <td>3.000000</td>\n",
       "      <td>1.500000</td>\n",
       "      <td>...</td>\n",
       "      <td>0.000000e+00</td>\n",
       "      <td>0.000000</td>\n",
       "      <td>0.0</td>\n",
       "      <td>0.000000</td>\n",
       "      <td>0.000000</td>\n",
       "      <td>0.000000</td>\n",
       "      <td>2.000000</td>\n",
       "      <td>0.000000</td>\n",
       "      <td>0.000000</td>\n",
       "      <td>0.000000</td>\n",
       "    </tr>\n",
       "    <tr>\n",
       "      <th>50%</th>\n",
       "      <td>0.000000</td>\n",
       "      <td>1117.000000</td>\n",
       "      <td>0.000000</td>\n",
       "      <td>1.0</td>\n",
       "      <td>1.0</td>\n",
       "      <td>5.000000</td>\n",
       "      <td>6.80000</td>\n",
       "      <td>13.000000</td>\n",
       "      <td>5.900000</td>\n",
       "      <td>3.000000</td>\n",
       "      <td>...</td>\n",
       "      <td>0.000000e+00</td>\n",
       "      <td>0.000000</td>\n",
       "      <td>0.0</td>\n",
       "      <td>0.000000</td>\n",
       "      <td>0.000000</td>\n",
       "      <td>0.000000</td>\n",
       "      <td>5.000000</td>\n",
       "      <td>0.000000</td>\n",
       "      <td>0.000000</td>\n",
       "      <td>0.000000</td>\n",
       "    </tr>\n",
       "    <tr>\n",
       "      <th>75%</th>\n",
       "      <td>0.000000</td>\n",
       "      <td>1152.000000</td>\n",
       "      <td>0.000000</td>\n",
       "      <td>1.0</td>\n",
       "      <td>1.0</td>\n",
       "      <td>5.000000</td>\n",
       "      <td>8.90000</td>\n",
       "      <td>23.400000</td>\n",
       "      <td>12.600000</td>\n",
       "      <td>5.100000</td>\n",
       "      <td>...</td>\n",
       "      <td>0.000000e+00</td>\n",
       "      <td>0.000000</td>\n",
       "      <td>0.0</td>\n",
       "      <td>0.000000</td>\n",
       "      <td>0.000000</td>\n",
       "      <td>0.000000</td>\n",
       "      <td>9.000000</td>\n",
       "      <td>0.000000</td>\n",
       "      <td>2.000000</td>\n",
       "      <td>0.000000</td>\n",
       "    </tr>\n",
       "    <tr>\n",
       "      <th>max</th>\n",
       "      <td>1.000000</td>\n",
       "      <td>1193.000000</td>\n",
       "      <td>1.000000</td>\n",
       "      <td>1.0</td>\n",
       "      <td>1.0</td>\n",
       "      <td>23.000000</td>\n",
       "      <td>38.00000</td>\n",
       "      <td>61.300000</td>\n",
       "      <td>29.500000</td>\n",
       "      <td>14.300000</td>\n",
       "      <td>...</td>\n",
       "      <td>6.965000e+01</td>\n",
       "      <td>187.840000</td>\n",
       "      <td>0.0</td>\n",
       "      <td>3.000000</td>\n",
       "      <td>2.772589</td>\n",
       "      <td>3.465736</td>\n",
       "      <td>256.000000</td>\n",
       "      <td>31.000000</td>\n",
       "      <td>601.000000</td>\n",
       "      <td>1.000000</td>\n",
       "    </tr>\n",
       "  </tbody>\n",
       "</table>\n",
       "<p>8 rows × 85 columns</p>\n",
       "</div>"
      ],
      "text/plain": [
       "        will_it_sell  product_id_unified  partner_product  cooking_mv  \\\n",
       "count  531824.000000       531824.000000    531824.000000    231884.0   \n",
       "mean        0.119477         1104.984531         0.091600         1.0   \n",
       "std         0.324350           55.861218         0.288461         0.0   \n",
       "min         0.000000         1004.000000         0.000000         1.0   \n",
       "25%         0.000000         1057.000000         0.000000         1.0   \n",
       "50%         0.000000         1117.000000         0.000000         1.0   \n",
       "75%         0.000000         1152.000000         0.000000         1.0   \n",
       "max         1.000000         1193.000000         1.000000         1.0   \n",
       "\n",
       "       cooking_ov            vat    bialko_100     weglow_100     cukry_calk  \\\n",
       "count    231884.0  531824.000000  496291.00000  496290.000000  496202.000000   \n",
       "mean          1.0       6.628563       7.47106      19.206512       8.332242   \n",
       "std           0.0       4.417655       6.73606      15.012734       7.248779   \n",
       "min           1.0       5.000000       0.00000       2.700000       0.200000   \n",
       "25%           1.0       5.000000       3.20000       9.200000       3.000000   \n",
       "50%           1.0       5.000000       6.80000      13.000000       5.900000   \n",
       "75%           1.0       5.000000       8.90000      23.400000      12.600000   \n",
       "max           1.0      23.000000      38.00000      61.300000      29.500000   \n",
       "\n",
       "       tluszcz_nasyc_calk  ...  avg_total_to_discount_lag1  \\\n",
       "count       496202.000000  ...                5.288900e+05   \n",
       "mean             3.861230  ...                7.927875e-01   \n",
       "std              3.268845  ...                3.095363e+00   \n",
       "min              0.000000  ...               -1.421085e-13   \n",
       "25%              1.500000  ...                0.000000e+00   \n",
       "50%              3.000000  ...                0.000000e+00   \n",
       "75%              5.100000  ...                0.000000e+00   \n",
       "max             14.300000  ...                6.965000e+01   \n",
       "\n",
       "       avg_total_base_lag1  avg_sum_fv_lag1  \\\n",
       "count        528890.000000         528890.0   \n",
       "mean              3.106582              0.0   \n",
       "std               6.165410              0.0   \n",
       "min               0.000000              0.0   \n",
       "25%               0.000000              0.0   \n",
       "50%               0.000000              0.0   \n",
       "75%               0.000000              0.0   \n",
       "max             187.840000              0.0   \n",
       "\n",
       "       avg_transaction_discount_count_lag1      roc1_lag1  rocPeriod_lag1  \\\n",
       "count                        528890.000000  528890.000000   528890.000000   \n",
       "mean                              0.098661      -0.001819       -0.008464   \n",
       "std                               0.292494       0.237530        0.622241   \n",
       "min                               0.000000      -2.772589       -3.465736   \n",
       "25%                               0.000000       0.000000        0.000000   \n",
       "50%                               0.000000       0.000000        0.000000   \n",
       "75%                               0.000000       0.000000        0.000000   \n",
       "max                               3.000000       2.772589        3.465736   \n",
       "\n",
       "       days_since_prev_delivery  sales_since_prev_delivery  \\\n",
       "count             474094.000000              474094.000000   \n",
       "mean                  16.806237                   0.351909   \n",
       "std                   30.601578                   1.024078   \n",
       "min                    1.000000                   0.000000   \n",
       "25%                    2.000000                   0.000000   \n",
       "50%                    5.000000                   0.000000   \n",
       "75%                    9.000000                   0.000000   \n",
       "max                  256.000000                  31.000000   \n",
       "\n",
       "       available_products  is_delivery_day  \n",
       "count       476634.000000    531823.000000  \n",
       "mean             1.197972         0.118019  \n",
       "std              3.569655         0.322630  \n",
       "min            -24.000000         0.000000  \n",
       "25%              0.000000         0.000000  \n",
       "50%              0.000000         0.000000  \n",
       "75%              2.000000         0.000000  \n",
       "max            601.000000         1.000000  \n",
       "\n",
       "[8 rows x 85 columns]"
      ]
     },
     "execution_count": 3,
     "metadata": {},
     "output_type": "execute_result"
    }
   ],
   "source": [
    "dataSet.describe()"
   ]
  },
  {
   "cell_type": "code",
   "execution_count": 4,
   "metadata": {},
   "outputs": [
    {
     "data": {
      "text/html": [
       "<div>\n",
       "<style scoped>\n",
       "    .dataframe tbody tr th:only-of-type {\n",
       "        vertical-align: middle;\n",
       "    }\n",
       "\n",
       "    .dataframe tbody tr th {\n",
       "        vertical-align: top;\n",
       "    }\n",
       "\n",
       "    .dataframe thead th {\n",
       "        text-align: right;\n",
       "    }\n",
       "</style>\n",
       "<table border=\"1\" class=\"dataframe\">\n",
       "  <thead>\n",
       "    <tr style=\"text-align: right;\">\n",
       "      <th></th>\n",
       "      <th>will_it_sell</th>\n",
       "      <th>pos_id</th>\n",
       "      <th>product_id_unified</th>\n",
       "      <th>company_id</th>\n",
       "      <th>category_id</th>\n",
       "      <th>category_name</th>\n",
       "      <th>product_name</th>\n",
       "      <th>partner_product</th>\n",
       "      <th>address_city</th>\n",
       "      <th>diet</th>\n",
       "      <th>...</th>\n",
       "      <th>avg_total_to_discount_lag1</th>\n",
       "      <th>avg_total_base_lag1</th>\n",
       "      <th>avg_sum_fv_lag1</th>\n",
       "      <th>avg_transaction_discount_count_lag1</th>\n",
       "      <th>roc1_lag1</th>\n",
       "      <th>rocPeriod_lag1</th>\n",
       "      <th>days_since_prev_delivery</th>\n",
       "      <th>sales_since_prev_delivery</th>\n",
       "      <th>available_products</th>\n",
       "      <th>is_delivery_day</th>\n",
       "    </tr>\n",
       "  </thead>\n",
       "  <tbody>\n",
       "    <tr>\n",
       "      <th>0</th>\n",
       "      <td>1</td>\n",
       "      <td>5cd2c7b75314a576b410fb6f</td>\n",
       "      <td>1146</td>\n",
       "      <td>5cc01f99def57b4350f57e6f</td>\n",
       "      <td>59005cd6c5c79d3575eb450d</td>\n",
       "      <td>Przekąski</td>\n",
       "      <td>Superfood SPORT - banan, białko</td>\n",
       "      <td>1</td>\n",
       "      <td>Wrocław</td>\n",
       "      <td>NaN</td>\n",
       "      <td>...</td>\n",
       "      <td>NaN</td>\n",
       "      <td>NaN</td>\n",
       "      <td>NaN</td>\n",
       "      <td>NaN</td>\n",
       "      <td>NaN</td>\n",
       "      <td>NaN</td>\n",
       "      <td>NaN</td>\n",
       "      <td>NaN</td>\n",
       "      <td>16.0</td>\n",
       "      <td>1.0</td>\n",
       "    </tr>\n",
       "    <tr>\n",
       "      <th>1</th>\n",
       "      <td>0</td>\n",
       "      <td>5b291c490663ab48e334abce</td>\n",
       "      <td>1136</td>\n",
       "      <td>5b9fa5e201f82e03b412bcff</td>\n",
       "      <td>5a0033206cdc0d08a6591bfb</td>\n",
       "      <td>Dania Lunch Małe</td>\n",
       "      <td>Szaszłyk z ryżem w kurkumie</td>\n",
       "      <td>0</td>\n",
       "      <td>Kraków</td>\n",
       "      <td>Dieta Samuraja</td>\n",
       "      <td>...</td>\n",
       "      <td>13.99</td>\n",
       "      <td>13.99</td>\n",
       "      <td>0.0</td>\n",
       "      <td>1.0</td>\n",
       "      <td>0.0</td>\n",
       "      <td>1.609438</td>\n",
       "      <td>NaN</td>\n",
       "      <td>NaN</td>\n",
       "      <td>NaN</td>\n",
       "      <td>0.0</td>\n",
       "    </tr>\n",
       "    <tr>\n",
       "      <th>2</th>\n",
       "      <td>0</td>\n",
       "      <td>5b1bb68ecaef965005d0e938</td>\n",
       "      <td>1051</td>\n",
       "      <td>5b1f8a17caef965005d12d7e</td>\n",
       "      <td>5abe0aed049e180557e22330</td>\n",
       "      <td>Sałatki</td>\n",
       "      <td>FitSalad - Sałatka z kurczakiem i grillowanymi...</td>\n",
       "      <td>0</td>\n",
       "      <td>Warszawa</td>\n",
       "      <td>--</td>\n",
       "      <td>...</td>\n",
       "      <td>0.00</td>\n",
       "      <td>0.00</td>\n",
       "      <td>0.0</td>\n",
       "      <td>0.0</td>\n",
       "      <td>0.0</td>\n",
       "      <td>0.000000</td>\n",
       "      <td>71.0</td>\n",
       "      <td>0.0</td>\n",
       "      <td>0.0</td>\n",
       "      <td>0.0</td>\n",
       "    </tr>\n",
       "    <tr>\n",
       "      <th>3</th>\n",
       "      <td>0</td>\n",
       "      <td>5cdbd1ba9083f77a4476ff58</td>\n",
       "      <td>1069</td>\n",
       "      <td>5d14ae03ad08444d3ee1eecd</td>\n",
       "      <td>5cd1a4d32b10792bc08dab31</td>\n",
       "      <td>Pan Pomidor - Pierogi</td>\n",
       "      <td>Pierogi ruskie</td>\n",
       "      <td>0</td>\n",
       "      <td>Wrocław</td>\n",
       "      <td>NaN</td>\n",
       "      <td>...</td>\n",
       "      <td>0.00</td>\n",
       "      <td>0.00</td>\n",
       "      <td>0.0</td>\n",
       "      <td>0.0</td>\n",
       "      <td>0.0</td>\n",
       "      <td>0.000000</td>\n",
       "      <td>2.0</td>\n",
       "      <td>0.0</td>\n",
       "      <td>0.0</td>\n",
       "      <td>0.0</td>\n",
       "    </tr>\n",
       "    <tr>\n",
       "      <th>4</th>\n",
       "      <td>0</td>\n",
       "      <td>5c1232411462a123065f3b58</td>\n",
       "      <td>1135</td>\n",
       "      <td>5beada3478729f2c8afeeb90</td>\n",
       "      <td>5a0033206cdc0d08a6591bfb</td>\n",
       "      <td>Dania Lunch Małe</td>\n",
       "      <td>Pikantny ryż jaśminowy smażony z jajkiem</td>\n",
       "      <td>0</td>\n",
       "      <td>Katowice</td>\n",
       "      <td>Dieta Samuraja</td>\n",
       "      <td>...</td>\n",
       "      <td>0.00</td>\n",
       "      <td>0.00</td>\n",
       "      <td>0.0</td>\n",
       "      <td>0.0</td>\n",
       "      <td>0.0</td>\n",
       "      <td>0.000000</td>\n",
       "      <td>NaN</td>\n",
       "      <td>NaN</td>\n",
       "      <td>NaN</td>\n",
       "      <td>0.0</td>\n",
       "    </tr>\n",
       "  </tbody>\n",
       "</table>\n",
       "<p>5 rows × 97 columns</p>\n",
       "</div>"
      ],
      "text/plain": [
       "   will_it_sell                    pos_id  product_id_unified  \\\n",
       "0             1  5cd2c7b75314a576b410fb6f                1146   \n",
       "1             0  5b291c490663ab48e334abce                1136   \n",
       "2             0  5b1bb68ecaef965005d0e938                1051   \n",
       "3             0  5cdbd1ba9083f77a4476ff58                1069   \n",
       "4             0  5c1232411462a123065f3b58                1135   \n",
       "\n",
       "                 company_id               category_id          category_name  \\\n",
       "0  5cc01f99def57b4350f57e6f  59005cd6c5c79d3575eb450d              Przekąski   \n",
       "1  5b9fa5e201f82e03b412bcff  5a0033206cdc0d08a6591bfb       Dania Lunch Małe   \n",
       "2  5b1f8a17caef965005d12d7e  5abe0aed049e180557e22330                Sałatki   \n",
       "3  5d14ae03ad08444d3ee1eecd  5cd1a4d32b10792bc08dab31  Pan Pomidor - Pierogi   \n",
       "4  5beada3478729f2c8afeeb90  5a0033206cdc0d08a6591bfb       Dania Lunch Małe   \n",
       "\n",
       "                                        product_name  partner_product  \\\n",
       "0                    Superfood SPORT - banan, białko                1   \n",
       "1                        Szaszłyk z ryżem w kurkumie                0   \n",
       "2  FitSalad - Sałatka z kurczakiem i grillowanymi...                0   \n",
       "3                                     Pierogi ruskie                0   \n",
       "4           Pikantny ryż jaśminowy smażony z jajkiem                0   \n",
       "\n",
       "  address_city            diet  ... avg_total_to_discount_lag1  \\\n",
       "0      Wrocław             NaN  ...                        NaN   \n",
       "1       Kraków  Dieta Samuraja  ...                      13.99   \n",
       "2     Warszawa              --  ...                       0.00   \n",
       "3      Wrocław             NaN  ...                       0.00   \n",
       "4     Katowice  Dieta Samuraja  ...                       0.00   \n",
       "\n",
       "  avg_total_base_lag1  avg_sum_fv_lag1  avg_transaction_discount_count_lag1  \\\n",
       "0                 NaN              NaN                                  NaN   \n",
       "1               13.99              0.0                                  1.0   \n",
       "2                0.00              0.0                                  0.0   \n",
       "3                0.00              0.0                                  0.0   \n",
       "4                0.00              0.0                                  0.0   \n",
       "\n",
       "  roc1_lag1  rocPeriod_lag1  days_since_prev_delivery  \\\n",
       "0       NaN             NaN                       NaN   \n",
       "1       0.0        1.609438                       NaN   \n",
       "2       0.0        0.000000                      71.0   \n",
       "3       0.0        0.000000                       2.0   \n",
       "4       0.0        0.000000                       NaN   \n",
       "\n",
       "   sales_since_prev_delivery  available_products  is_delivery_day  \n",
       "0                        NaN                16.0              1.0  \n",
       "1                        NaN                 NaN              0.0  \n",
       "2                        0.0                 0.0              0.0  \n",
       "3                        0.0                 0.0              0.0  \n",
       "4                        NaN                 NaN              0.0  \n",
       "\n",
       "[5 rows x 97 columns]"
      ]
     },
     "execution_count": 4,
     "metadata": {},
     "output_type": "execute_result"
    }
   ],
   "source": [
    "dataSet.head()"
   ]
  },
  {
   "cell_type": "code",
   "execution_count": 5,
   "metadata": {},
   "outputs": [
    {
     "name": "stdout",
     "output_type": "stream",
     "text": [
      "<class 'pandas.core.frame.DataFrame'>\n",
      "RangeIndex: 531824 entries, 0 to 531823\n",
      "Data columns (total 97 columns):\n",
      " #   Column                               Non-Null Count   Dtype  \n",
      "---  ------                               --------------   -----  \n",
      " 0   will_it_sell                         531824 non-null  int64  \n",
      " 1   pos_id                               531824 non-null  object \n",
      " 2   product_id_unified                   531824 non-null  int64  \n",
      " 3   company_id                           531824 non-null  object \n",
      " 4   category_id                          531824 non-null  object \n",
      " 5   category_name                        531824 non-null  object \n",
      " 6   product_name                         531824 non-null  object \n",
      " 7   partner_product                      531824 non-null  int64  \n",
      " 8   address_city                         531824 non-null  object \n",
      " 9   diet                                 282103 non-null  object \n",
      " 10  size                                 531824 non-null  object \n",
      " 11  cooking_time                         360554 non-null  object \n",
      " 12  cooking_mv                           231884 non-null  float64\n",
      " 13  cooking_ov                           231884 non-null  float64\n",
      " 14  storage_temp                         390272 non-null  object \n",
      " 15  vat                                  531824 non-null  int64  \n",
      " 16  bialko_100                           496291 non-null  float64\n",
      " 17  weglow_100                           496290 non-null  float64\n",
      " 18  cukry_calk                           496202 non-null  float64\n",
      " 19  tluszcz_nasyc_calk                   496202 non-null  float64\n",
      " 20  energia_calk                         496290 non-null  float64\n",
      " 21  energia_100                          496290 non-null  float64\n",
      " 22  tluszcz_nasyc_100                    496202 non-null  float64\n",
      " 23  blonnik_100                          403780 non-null  float64\n",
      " 24  tluszcz_calk                         496290 non-null  float64\n",
      " 25  bialko_calk                          496290 non-null  float64\n",
      " 26  sol_100                              496202 non-null  float64\n",
      " 27  weglow_calk                          496290 non-null  float64\n",
      " 28  blonnik_calk                         403780 non-null  float64\n",
      " 29  tluszcz_100                          496290 non-null  float64\n",
      " 30  cukry_100                            496202 non-null  float64\n",
      " 31  sol_calk                             496202 non-null  float64\n",
      " 32  weekday                              531823 non-null  object \n",
      " 33  quarter                              531823 non-null  object \n",
      " 34  month                                531823 non-null  float64\n",
      " 35  week                                 531823 non-null  float64\n",
      " 36  qty_lag1                             528890 non-null  float64\n",
      " 37  qty_lag2                             525973 non-null  float64\n",
      " 38  qty_lag3                             523085 non-null  float64\n",
      " 39  qty_lag4                             520232 non-null  float64\n",
      " 40  qty_lag5                             517316 non-null  float64\n",
      " 41  qty_lag6                             514381 non-null  float64\n",
      " 42  qty_lag7                             511471 non-null  float64\n",
      " 43  qty_lag8                             508593 non-null  float64\n",
      " 44  qty_lag9                             505624 non-null  float64\n",
      " 45  qty_lag10                            502750 non-null  float64\n",
      " 46  qty_lag11                            499915 non-null  float64\n",
      " 47  qty_lag12                            497116 non-null  float64\n",
      " 48  qty_lag13                            494284 non-null  float64\n",
      " 49  qty_lag14                            491433 non-null  float64\n",
      " 50  meanLastPeriod_lag1                  511471 non-null  float64\n",
      " 51  meanLastPeriod_lag2                  508593 non-null  float64\n",
      " 52  meanLastPeriod_lag3                  505624 non-null  float64\n",
      " 53  meanLastPeriod_lag4                  502750 non-null  float64\n",
      " 54  meanLastPeriod_lag5                  499915 non-null  float64\n",
      " 55  meanLastPeriod_lag6                  497116 non-null  float64\n",
      " 56  meanLastPeriod_lag7                  494284 non-null  float64\n",
      " 57  meanLastPeriod_lag1_lag7_diff        494284 non-null  float64\n",
      " 58  sdLastPeriod_lag1                    511471 non-null  float64\n",
      " 59  sdLastPeriod_lag2                    508593 non-null  float64\n",
      " 60  sdLastPeriod_lag3                    505624 non-null  float64\n",
      " 61  sdLastPeriod_lag4                    502750 non-null  float64\n",
      " 62  sdLastPeriod_lag5                    499915 non-null  float64\n",
      " 63  sdLastPeriod_lag6                    497116 non-null  float64\n",
      " 64  sdLastPeriod_lag7                    494284 non-null  float64\n",
      " 65  minLastPeriod_lag1                   511471 non-null  float64\n",
      " 66  minLastPeriod_lag7                   494284 non-null  float64\n",
      " 67  minLastPeriod_lag1_lag7_diff         494284 non-null  float64\n",
      " 68  maxLastPeriod_lag1                   511471 non-null  float64\n",
      " 69  maxLastPeriod_lag7                   494284 non-null  float64\n",
      " 70  maxLastPeriod_lag1_lag7_diff         494284 non-null  float64\n",
      " 71  diff1_lag1                           525973 non-null  float64\n",
      " 72  diff1_lag7                           508593 non-null  float64\n",
      " 73  diff1_lag1_lag7_diff                 508593 non-null  float64\n",
      " 74  diffLagPeriod_lag1                   508593 non-null  float64\n",
      " 75  diffLagPeriod_lag7                   491433 non-null  float64\n",
      " 76  diffLagPeriod_lag1_lag7_diff         491433 non-null  float64\n",
      " 77  mean_diff1_lag1                      508593 non-null  float64\n",
      " 78  mean_diff1_lag7                      491433 non-null  float64\n",
      " 79  mean_diff1_lag1_lag7_diff            491433 non-null  float64\n",
      " 80  sum_qty                              514381 non-null  float64\n",
      " 81  avg_discount_mean_value_lag1         528890 non-null  float64\n",
      " 82  avg_discount_count_lag1              528890 non-null  float64\n",
      " 83  avg_from_blik_lag1                   528890 non-null  float64\n",
      " 84  avg_from_paypass_lag1                528890 non-null  float64\n",
      " 85  avg_from_payu_lag1                   528890 non-null  float64\n",
      " 86  avg_total_lag1                       528890 non-null  float64\n",
      " 87  avg_total_to_discount_lag1           528890 non-null  float64\n",
      " 88  avg_total_base_lag1                  528890 non-null  float64\n",
      " 89  avg_sum_fv_lag1                      528890 non-null  float64\n",
      " 90  avg_transaction_discount_count_lag1  528890 non-null  float64\n",
      " 91  roc1_lag1                            528890 non-null  float64\n",
      " 92  rocPeriod_lag1                       528890 non-null  float64\n",
      " 93  days_since_prev_delivery             474094 non-null  float64\n",
      " 94  sales_since_prev_delivery            474094 non-null  float64\n",
      " 95  available_products                   476634 non-null  float64\n",
      " 96  is_delivery_day                      531823 non-null  float64\n",
      "dtypes: float64(81), int64(4), object(12)\n",
      "memory usage: 393.6+ MB\n"
     ]
    }
   ],
   "source": [
    "import numpy as np\n",
    "\n",
    "#Getting categorical data\n",
    "df_cat = dataSet.loc[:,dataSet.dtypes==np.object]\n",
    "#Getting Numeric data\n",
    "df_num = dataSet.loc[:,dataSet.dtypes!=np.object]\n",
    "\n",
    "dataSet.info()\n",
    "\n",
    "y = dataSet.pop('will_it_sell')"
   ]
  },
  {
   "cell_type": "code",
   "execution_count": 6,
   "metadata": {},
   "outputs": [
    {
     "data": {
      "text/plain": [
       "0    468283\n",
       "1     63541\n",
       "Name: will_it_sell, dtype: int64"
      ]
     },
     "execution_count": 6,
     "metadata": {},
     "output_type": "execute_result"
    }
   ],
   "source": [
    "y.value_counts()"
   ]
  },
  {
   "cell_type": "markdown",
   "metadata": {},
   "source": [
    "**Note:** Features must be numeric with meaningful magnitude. We will cover this later.\\\n",
    "Now we need to split -dataSet- to training set and testing set.  If we want to (approximately) keep the proportion of y values through the training and test sets, then we need to pass stratify=y. This will enable stratified splitting:"
   ]
  },
  {
   "cell_type": "code",
   "execution_count": 7,
   "metadata": {},
   "outputs": [],
   "source": [
    "from sklearn.model_selection import train_test_split\n",
    "\n",
    "#X_train - dataset for training and tuning hyperparameters, X_test - dataset for evaluating our model\n",
    "X_train, X_test, y_train, y_test = train_test_split(dataSet, y, test_size=0.2, random_state=42, stratify=y) \n",
    "#data was split in a stratified fashion"
   ]
  },
  {
   "cell_type": "code",
   "execution_count": 8,
   "metadata": {},
   "outputs": [
    {
     "name": "stdout",
     "output_type": "stream",
     "text": [
      "___________\n",
      "596e2a5371059a6bc70a818b    2053\n",
      "5b1b963bcaef965005d0e6b0    2027\n",
      "5b61699404852c4704a26f28    2016\n",
      "59fc5325c94b722506678bd1    2011\n",
      "5b1bad72caef965005d0e891    2007\n",
      "                            ... \n",
      "5dc694443bf8f15dc97ec3c7       5\n",
      "5dc69e723bf8f15dc97ec4de       5\n",
      "5dcd4c06dacdf109c179d79b       3\n",
      "5dcbccb4aa5f032f78d77579       2\n",
      "5dcd2fb58fc7d108e6b8bc09       1\n",
      "Name: pos_id, Length: 375, dtype: int64\n",
      "___________\n",
      "5a587706cf5c8134b3a9891d    7952\n",
      "5c48270855f3af637b69b13f    7559\n",
      "5b9fa5e201f82e03b412bcff    6331\n",
      "5b503c4a9586df16bbb6e07a    6135\n",
      "5c924f69b6cb840dcac430fe    5983\n",
      "                            ... \n",
      "5dbff5229f38f239c2ffeb55      20\n",
      "5dc534a2fdcd0622bd7b34e5      18\n",
      "5e4550dd177446520bcd2c91      11\n",
      "5d764e2fd0c59c62f781ff36       5\n",
      "5d764e24bf7a586310594da4       4\n",
      "Name: company_id, Length: 298, dtype: int64\n",
      "___________\n",
      "5a6f110ca0899f5ca2f7d6e9    90519\n",
      "59005cd6c5c79d3575eb450d    73645\n",
      "5a0033206cdc0d08a6591bfb    63665\n",
      "591301c83dd75608a9c2ef1b    39234\n",
      "590053bdc5c79d3575eb44f6    38747\n",
      "5cb9b8eedf68013fb09db8f0    32706\n",
      "591301913dd75608a9c2ef19    21300\n",
      "5cd1a4f40a544c2d0d156fea    20675\n",
      "5abe0aed049e180557e22330    16463\n",
      "5cd1a4d32b10792bc08dab31    13088\n",
      "5d1b55aa5379175d45e9360a    12412\n",
      "5d7103b8c8c4a843bc5b5706     2259\n",
      "591301b53dd75608a9c2ef1a      435\n",
      "5d9f1dcab962ef075bd26ecb      311\n",
      "Name: category_id, dtype: int64\n",
      "___________\n",
      "Dania Lunch Duże         90519\n",
      "Przekąski                73645\n",
      "Dania Lunch Małe         63665\n",
      "Napoje                   39234\n",
      "Zupy                     38747\n",
      "Makarony                 32706\n",
      "Śniadania                21300\n",
      "Pan Pomidor - Zupy       20675\n",
      "Sałatki                  16463\n",
      "Pan Pomidor - Pierogi    13088\n",
      "Mr Thai                  12412\n",
      "Lucky Fish                2259\n",
      "Desery                     435\n",
      "DayUp                      311\n",
      "Name: category_name, dtype: int64\n",
      "___________\n",
      "Dyniowe curry z indykiem                 8882\n",
      "Ostra wołowina z kaszą gryczaną          8738\n",
      "Wołowina z marchewkowym puree            8591\n",
      "Risotto z indykiem i cukinią             8578\n",
      "Szaszłyk z ryżem w kurkumie              8282\n",
      "                                         ... \n",
      "Chili con carne z ryżen                    14\n",
      "Silny Łasuch - Łasuch i jego orzeszki      11\n",
      "FitElixir - Black                          11\n",
      "Silny Łasuch - 2w1                          7\n",
      "All'arrabiata                               7\n",
      "Name: product_name, Length: 136, dtype: int64\n",
      "___________\n",
      "Warszawa                           186846\n",
      "Kraków                             124943\n",
      "Wrocław                             55227\n",
      "Katowice                            18485\n",
      "Skawina                              5737\n",
      "11                                   4042\n",
      "Gliwice                              3302\n",
      "Wieliczka                            3133\n",
      "Niepołomice                          3123\n",
      "Kobierzyce, Bielany Wrocławskie      2242\n",
      "Zabierzów                            2060\n",
      "Balice                               1781\n",
      "Wroclaw                              1632\n",
      "Jagiellońska 74                      1349\n",
      "30-001                               1221\n",
      "Bielany Wrocławskie                  1169\n",
      "Ruda Śląska                          1159\n",
      "Waszawa                              1150\n",
      "Prądnicka 65                         1134\n",
      "Podłęże, Kraków                       979\n",
      "Wysoka, Wrocław                       920\n",
      "Bytom                                 659\n",
      "Wrocław, Biskupice Podgórne           608\n",
      "Wrocławiu                             581\n",
      "51.126901, 16.978188                  492\n",
      "Krakow                                418\n",
      "Nowa Wieś Wrocławska                  400\n",
      "12                                    334\n",
      "02-092                                190\n",
      "Wysoka                                 87\n",
      "30-150                                 23\n",
      "21                                     17\n",
      "Zabłocie 20/22                         16\n",
      "Name: address_city, dtype: int64\n",
      "___________\n",
      "Dieta Samuraja              78798\n",
      "Zupy                        37023\n",
      "--                          31473\n",
      "Dieta Paleo                 28786\n",
      "Kuchnia Słowiańska          12366\n",
      "Kuchnia Latynoska           12029\n",
      "Kuchnia Orientalna          10253\n",
      "Kuchnia Śródziemnomorska     9875\n",
      "413,0                        2715\n",
      "Kuchnia Środziemnomorska     2512\n",
      "Name: diet, dtype: int64\n",
      "___________\n",
      "350g     95344\n",
      "500g     89689\n",
      "300g     41944\n",
      "40g      31688\n",
      "250ml    30454\n",
      "400g     25426\n",
      "240g     23727\n",
      "35g      23021\n",
      "230g     19778\n",
      "50g      11518\n",
      "60g       7351\n",
      "300ml     5724\n",
      "380g      5050\n",
      "370g      3441\n",
      "200ml     3056\n",
      "180g      2887\n",
      "250g      2724\n",
      "120g      1408\n",
      "220g      1053\n",
      "100g       109\n",
      "2x68g       56\n",
      "85g         11\n",
      "Name: size, dtype: int64\n",
      "___________\n",
      "2-3 min.    288531\n",
      "Name: cooking_time, dtype: int64\n",
      "___________\n",
      "2-5 °C    276282\n",
      "2-6 °C     20675\n",
      "1-6 °C     13088\n",
      "0-6 °C      1206\n",
      "0-7 °C      1053\n",
      "Name: storage_temp, dtype: int64\n",
      "___________\n",
      "czwartek        61858\n",
      "wtorek          61258\n",
      "środa           61165\n",
      "sobota          60662\n",
      "poniedziałek    60641\n",
      "piątek          60038\n",
      "niedziela       59836\n",
      "Name: weekday, dtype: int64\n",
      "___________\n",
      "Q3    161650\n",
      "Q4    109388\n",
      "Q2     94643\n",
      "Q1     59777\n",
      "Name: quarter, dtype: int64\n"
     ]
    }
   ],
   "source": [
    "objlist = X_train.select_dtypes(include=\"object\").columns\n",
    "for cols in objlist:\n",
    "    print('___________')\n",
    "    print(X_train[cols].value_counts())"
   ]
  },
  {
   "cell_type": "markdown",
   "metadata": {},
   "source": [
    "File \"encoding\" contains pipelines with list of transforms for categorial variables and numeric variables.   \n",
    "##### For categorial variables:  \n",
    "**Simple imputer** fills missing cells with 'missing'.  \n",
    "**HashEncoder** is suitable for categorial variables with large numer of levels.  \n",
    "**OneHotEncoder** refers to splitting the column which contains numerical categorical data to many columns depending on the number of categories present in that column. Each column contains “0” or “1” corresponding to which column it has been placed.   Collinear features cause problems, such as when feeding the resulting data into a neural network or an unregularized regression. Therefore parameter drop='first'.\n",
    "\n",
    "##### For numeric variables:  \n",
    "**Simple imputer** fills missing cells with mode for each column.  "
   ]
  },
  {
   "cell_type": "code",
   "execution_count": 9,
   "metadata": {},
   "outputs": [],
   "source": [
    "from encoding import encode\n",
    "\n",
    "#colmun of the same value in each row is useless\n",
    "del X_train[\"cooking_time\"]\n",
    "del X_test[\"cooking_time\"]\n",
    "\n",
    "X_train, X_test=encode(X_train, X_test)"
   ]
  },
  {
   "cell_type": "code",
   "execution_count": 10,
   "metadata": {},
   "outputs": [],
   "source": [
    "X_train.to_csv(\"X_train.csv\", sep=';', encoding='utf-8')\n",
    "y_train.to_csv(\"y_train.csv\", sep=';', encoding='utf-8')\n",
    "X_test.to_csv(\"X_test.csv\", sep=';', encoding='utf-8')\n",
    "y_test.to_csv(\"y_test.csv\", sep=';', encoding='utf-8')"
   ]
  },
  {
   "cell_type": "markdown",
   "metadata": {},
   "source": [
    "**LightGBM** is a gradient boosting framework based on decision trees to increases the efficiency of the model and reduces memory usage. It uses two novel techniques: Gradient-based One Side Sampling and Exclusive Feature Bundling (EFB) which fulfills the limitations of histogram-based algorithm that is primarily used in all GBDT (Gradient Boosting Decision Tree) frameworks. The two techniques of GOSS and EFB described below form the characteristics of LightGBM Algorithm. They comprise together to make the model work efficiently and provide it a cutting edge over other GBDT frameworks\n",
    "\n",
    "**Architecture**  \n",
    "LightGBM splits the tree leaf-wise as opposed to other boosting algorithms that grow tree level-wise. It chooses the leaf with maximum delta loss to grow. Since the leaf is fixed, the leaf-wise algorithm has lower loss compared to the level-wise algorithm. Leaf-wise tree growth might increase the complexity of the model and may lead to overfitting in small datasets."
   ]
  },
  {
   "cell_type": "code",
   "execution_count": 11,
   "metadata": {},
   "outputs": [],
   "source": [
    "import lightgbm as lgbm"
   ]
  },
  {
   "cell_type": "code",
   "execution_count": 33,
   "metadata": {},
   "outputs": [
    {
     "data": {
      "text/plain": [
       "<lightgbm.basic.Booster at 0x11b88bd4160>"
      ]
     },
     "execution_count": 33,
     "metadata": {},
     "output_type": "execute_result"
    }
   ],
   "source": [
    "model = lgbm.LGBMClassifier(device=\"gpu\")\n",
    "model.fit(X_train, y_train)\n",
    "preds = model.predict(X_test)\n",
    "filename = 'finalized_model.sav'\n",
    "model.booster_.save_model(filename)\n"
   ]
  },
  {
   "cell_type": "code",
   "execution_count": 13,
   "metadata": {},
   "outputs": [
    {
     "data": {
      "image/png": "[encoded data removed]",
      "text/plain": [
       "<Figure size 432x288 with 1 Axes>"
      ]
     },
     "metadata": {
      "needs_background": "light"
     },
     "output_type": "display_data"
    }
   ],
   "source": [
    "from sklearn import metrics\n",
    "from sklearn.metrics import plot_roc_curve\n",
    "import matplotlib.pyplot as plt\n",
    "\n",
    "fpr, tpr, thresholds = metrics.roc_curve(y_test, preds)\n",
    "metrics.auc(fpr, tpr)\n",
    "\n",
    "\n",
    "roc_auc = dict()\n",
    "plt.figure()\n",
    "plt.plot(fpr, tpr)\n",
    "plt.plot([0, 1], [0, 1], color='navy')\n",
    "plt.xlim([0.0, 1.0])\n",
    "plt.ylim([0.0, 1.05])\n",
    "plt.xlabel('False Positive Rate')\n",
    "plt.ylabel('True Positive Rate')\n",
    "plt.show()\n",
    "\n",
    "\n",
    "#not great not terrible"
   ]
  },
  {
   "cell_type": "code",
   "execution_count": 14,
   "metadata": {},
   "outputs": [
    {
     "data": {
      "text/plain": [
       "array([[91427,  2230],\n",
       "       [ 5962,  6746]], dtype=int64)"
      ]
     },
     "execution_count": 14,
     "metadata": {},
     "output_type": "execute_result"
    }
   ],
   "source": [
    "metrics.confusion_matrix(y_test, preds)"
   ]
  },
  {
   "cell_type": "code",
   "execution_count": 15,
   "metadata": {},
   "outputs": [
    {
     "data": {
      "image/png": "[encoded data removed]",
      "text/plain": [
       "<Figure size 432x288 with 1 Axes>"
      ]
     },
     "metadata": {
      "needs_background": "light"
     },
     "output_type": "display_data"
    }
   ],
   "source": [
    "ax = lgbm.plot_importance(model, max_num_features=28)\n",
    "ax.figure.savefig('feature_importance_lgbm.png')"
   ]
  },
  {
   "cell_type": "code",
   "execution_count": 42,
   "metadata": {},
   "outputs": [
    {
     "data": {
      "text/plain": [
       "{'boosting_type': 'gbdt',\n",
       " 'class_weight': None,\n",
       " 'colsample_bytree': 1.0,\n",
       " 'importance_type': 'split',\n",
       " 'learning_rate': 0.1,\n",
       " 'max_depth': -1,\n",
       " 'min_child_samples': 20,\n",
       " 'min_child_weight': 0.001,\n",
       " 'min_split_gain': 0.0,\n",
       " 'n_estimators': 100,\n",
       " 'n_jobs': -1,\n",
       " 'num_leaves': 31,\n",
       " 'objective': 'binary',\n",
       " 'random_state': None,\n",
       " 'reg_alpha': 0.0,\n",
       " 'reg_lambda': 0.0,\n",
       " 'silent': True,\n",
       " 'subsample': 1.0,\n",
       " 'subsample_for_bin': 200000,\n",
       " 'subsample_freq': 0,\n",
       " 'device': 'gpu',\n",
       " 'metric': ['auc', 'error', 'Binary_logloss'],\n",
       " 'is_unbalance': True}"
      ]
     },
     "execution_count": 42,
     "metadata": {},
     "output_type": "execute_result"
    }
   ],
   "source": [
    "model.get_params()"
   ]
  },
  {
   "cell_type": "markdown",
   "metadata": {},
   "source": [
    "**Parameter Tuning**  \n",
    "Few important parameters and their usage is listed below :  \n",
    "\n",
    "**max_depth** : It sets a limit on the depth of tree. The default value is 20. It is effective in controlling over fitting.  \n",
    "**categorical_feature** : It specifies the categorical feature used for training model.   \n",
    "**bagging_fraction** : It specifies the fraction of data to be considered for each iteration.  \n",
    "**num_iterations** : It specifies the number of iterations to be performed. The default value is 100.  \n",
    "**num_leaves** : It specifies the number of leaves in a tree. It should be smaller than the square of max_depth.  \n",
    "**max_bin** : It specifies the maximum number of bins to bucket the feature values.  \n",
    "**min_data_in_bin** : It specifies minimum amount of data in one bin.  \n",
    "**task** : It specifies the task we wish to perform which is either train or prediction. The default entry is train. Another possible value for this parameter is prediction.  \n",
    "**feature_fraction** : It specifies the fraction of features to be considered in each iteration. The default value is one.  \n"
   ]
  },
  {
   "cell_type": "code",
   "execution_count": 21,
   "metadata": {},
   "outputs": [],
   "source": [
    "X_train, X_validate, y_train, y_validate = train_test_split(X_train, y_train, test_size=0.20, stratify=y_train)"
   ]
  },
  {
   "cell_type": "code",
   "execution_count": 54,
   "metadata": {},
   "outputs": [],
   "source": [
    "FIXED_PARAMS={'objective': 'binary', \n",
    "              'metric': [\"auc\",\"error\", \"Binary_logloss\"],\n",
    "              'is_unbalance':True\n",
    "             }"
   ]
  },
  {
   "cell_type": "code",
   "execution_count": 55,
   "metadata": {},
   "outputs": [],
   "source": [
    "model = lgbm.LGBMClassifier(device=\"gpu\")\n",
    "model.set_params(**FIXED_PARAMS)\n",
    "model.fit(X_train, y_train)\n",
    "preds = model.predict(X_validate)"
   ]
  },
  {
   "cell_type": "code",
   "execution_count": 56,
   "metadata": {},
   "outputs": [
    {
     "data": {
      "image/png": "[encoded data removed]",
      "text/plain": [
       "<Figure size 432x288 with 1 Axes>"
      ]
     },
     "metadata": {
      "needs_background": "light"
     },
     "output_type": "display_data"
    }
   ],
   "source": [
    "fpr, tpr, thresholds = metrics.roc_curve(y_validate, preds)\n",
    "metrics.auc(fpr, tpr)\n",
    "\n",
    "\n",
    "roc_auc = dict()\n",
    "plt.figure()\n",
    "plt.plot(fpr, tpr)\n",
    "plt.plot([0, 1], [0, 1], color='navy')\n",
    "plt.xlim([0.0, 1.0])\n",
    "plt.ylim([0.0, 1.05])\n",
    "plt.xlabel('False Positive Rate')\n",
    "plt.ylabel('True Positive Rate')\n",
    "plt.show()"
   ]
  },
  {
   "cell_type": "code",
   "execution_count": 57,
   "metadata": {},
   "outputs": [
    {
     "data": {
      "text/plain": [
       "array([[50973,  8968],\n",
       "       [  987,  7146]], dtype=int64)"
      ]
     },
     "execution_count": 57,
     "metadata": {},
     "output_type": "execute_result"
    }
   ],
   "source": [
    "metrics.confusion_matrix(y_validate, preds)"
   ]
  },
  {
   "cell_type": "code",
   "execution_count": 58,
   "metadata": {},
   "outputs": [
    {
     "data": {
      "text/plain": [
       "0.8645143902139453"
      ]
     },
     "execution_count": 58,
     "metadata": {},
     "output_type": "execute_result"
    }
   ],
   "source": [
    "metrics.auc(fpr, tpr)"
   ]
  },
  {
   "cell_type": "code",
   "execution_count": 59,
   "metadata": {},
   "outputs": [],
   "source": [
    "from scipy.stats import randint as sp_randint\n",
    "from scipy.stats import uniform as sp_uniform\n",
    "from sklearn.model_selection import RandomizedSearchCV, GridSearchCV\n",
    "n_HP_points_to_test = 100 #This parameter defines the number of HP points to be tested\n",
    "param_test ={'num_leaves': sp_randint(6, 80), \n",
    "             'min_child_samples': sp_randint(100, 500), \n",
    "             'min_child_weight': [1e-5, 1e-3, 1e-2, 1e-1, 1, 1e1, 1e2, 1e3, 1e4],\n",
    "             'subsample': sp_uniform(loc=0.2, scale=0.8), \n",
    "             'colsample_bytree': sp_uniform(loc=0.4, scale=0.6),\n",
    "             'reg_alpha': [0, 1e-1, 1, 2, 5, 7, 10, 50, 100],\n",
    "             'reg_lambda': [0, 1e-1, 1, 5, 10, 20, 50, 100]\n",
    "            }\n",
    "\n",
    "gs = RandomizedSearchCV(\n",
    "    estimator=model, param_distributions=param_test, \n",
    "    n_iter=n_HP_points_to_test,\n",
    "    scoring='neg_log_loss',\n",
    "    cv=3,\n",
    "    refit=True,\n",
    "    random_state=314,\n",
    "    verbose=True)"
   ]
  },
  {
   "cell_type": "code",
   "execution_count": 60,
   "metadata": {},
   "outputs": [
    {
     "name": "stdout",
     "output_type": "stream",
     "text": [
      "Fitting 3 folds for each of 100 candidates, totalling 300 fits\n"
     ]
    },
    {
     "name": "stderr",
     "output_type": "stream",
     "text": [
      "[Parallel(n_jobs=1)]: Using backend SequentialBackend with 1 concurrent workers.\n",
      "[Parallel(n_jobs=1)]: Done 300 out of 300 | elapsed: 29.7min finished\n"
     ]
    },
    {
     "name": "stdout",
     "output_type": "stream",
     "text": [
      "Best score reached: -0.3004866404601707 with params: {'colsample_bytree': 0.9644122653638829, 'min_child_samples': 281, 'min_child_weight': 0.001, 'num_leaves': 79, 'reg_alpha': 2, 'reg_lambda': 50, 'subsample': 0.3124968711594125} \n"
     ]
    }
   ],
   "source": [
    "gs.fit(X_train, y_train)\n",
    "print('Best score reached: {} with params: {} '.format(gs.best_score_, gs.best_params_))"
   ]
  },
  {
   "cell_type": "code",
   "execution_count": 62,
   "metadata": {},
   "outputs": [
    {
     "name": "stderr",
     "output_type": "stream",
     "text": [
      "C:\\Users\\Asia\\anaconda3\\lib\\site-packages\\sklearn\\utils\\validation.py:72: DataConversionWarning: A column-vector y was passed when a 1d array was expected. Please change the shape of y to (n_samples, ), for example using ravel().\n",
      "  return f(**kwargs)\n"
     ]
    },
    {
     "data": {
      "text/plain": [
       "LGBMClassifier(colsample_bytree=0.9644122653638829, device='gpu',\n",
       "               is_unbalance=True, metric=['auc', 'error', 'Binary_logloss'],\n",
       "               min_child_samples=281, num_leaves=79, objective='binary',\n",
       "               reg_alpha=2, reg_lambda=50, subsample=0.3124968711594125)"
      ]
     },
     "execution_count": 62,
     "metadata": {},
     "output_type": "execute_result"
    }
   ],
   "source": [
    "final_lgbm_model = lgbm.LGBMClassifier(**FIXED_PARAMS, device=\"gpu\")\n",
    "#params = {'colsample_bytree': 0.9348023686516402, 'min_child_samples': 351, 'min_child_weight': 10.0, 'num_leaves': 47, 'reg_alpha': 1, 'reg_lambda': 1, 'subsample': 0.49447771753795894}\n",
    "final_lgbm_model.set_params(**gs.best_params_)\n",
    "data =  pd.read_csv(\"X_train.csv\", sep=';')\n",
    "data = data.iloc[:, 1:]\n",
    "label = pd.read_csv(\"y_train.csv\", sep=';')\n",
    "y = pd.DataFrame(label[\"will_it_sell\"])\n",
    "\n",
    "final_lgbm_model.fit(data, y)"
   ]
  },
  {
   "cell_type": "code",
   "execution_count": 63,
   "metadata": {},
   "outputs": [
    {
     "data": {
      "image/png": "[encoded data removed]",
      "text/plain": [
       "<Figure size 432x288 with 1 Axes>"
      ]
     },
     "metadata": {
      "needs_background": "light"
     },
     "output_type": "display_data"
    }
   ],
   "source": [
    "preds = final_lgbm_model.predict(X_test)\n",
    "\n",
    "fpr, tpr, thresholds = metrics.roc_curve(y_test, preds)\n",
    "metrics.auc(fpr, tpr)\n",
    "\n",
    "\n",
    "roc_auc = dict()\n",
    "plt.figure()\n",
    "plt.plot(fpr, tpr)\n",
    "plt.plot([0, 1], [0, 1], color='navy')\n",
    "plt.xlim([0.0, 1.0])\n",
    "plt.ylim([0.0, 1.05])\n",
    "plt.xlabel('False Positive Rate')\n",
    "plt.ylabel('True Positive Rate')\n",
    "plt.show()"
   ]
  },
  {
   "cell_type": "code",
   "execution_count": 64,
   "metadata": {},
   "outputs": [
    {
     "data": {
      "text/plain": [
       "array([[80135, 13522],\n",
       "       [ 1336, 11372]], dtype=int64)"
      ]
     },
     "execution_count": 64,
     "metadata": {},
     "output_type": "execute_result"
    }
   ],
   "source": [
    "metrics.confusion_matrix(y_test, preds)"
   ]
  },
  {
   "cell_type": "code",
   "execution_count": 65,
   "metadata": {},
   "outputs": [
    {
     "data": {
      "text/plain": [
       "0.8752457420449156"
      ]
     },
     "execution_count": 65,
     "metadata": {},
     "output_type": "execute_result"
    }
   ],
   "source": [
    "metrics.auc(fpr, tpr)"
   ]
  },
  {
   "cell_type": "code",
   "execution_count": 73,
   "metadata": {},
   "outputs": [
    {
     "data": {
      "text/plain": [
       "0.09628477418575455"
      ]
     },
     "execution_count": 73,
     "metadata": {},
     "output_type": "execute_result"
    }
   ],
   "source": [
    "preds_prob = final_lgbm_model.predict_proba(X_test)\n",
    "metrics.brier_score_loss(y_test, preds_prob[:,1])"
   ]
  },
  {
   "cell_type": "code",
   "execution_count": 74,
   "metadata": {},
   "outputs": [
    {
     "data": {
      "text/plain": [
       "0.9471313692380197"
      ]
     },
     "execution_count": 74,
     "metadata": {},
     "output_type": "execute_result"
    }
   ],
   "source": [
    "fpr, tpr, thresholds = metrics.roc_curve(y_test, preds_prob[:, 1])\n",
    "metrics.auc(fpr, tpr)"
   ]
  },
  {
   "cell_type": "code",
   "execution_count": 75,
   "metadata": {},
   "outputs": [
    {
     "data": {
      "image/png": "[encoded data removed]",
      "text/plain": [
       "<Figure size 432x288 with 1 Axes>"
      ]
     },
     "metadata": {
      "needs_background": "light"
     },
     "output_type": "display_data"
    }
   ],
   "source": [
    "roc_auc = dict()\n",
    "plt.figure()\n",
    "plt.plot(fpr, tpr)\n",
    "plt.plot([0, 1], [0, 1], color='navy')\n",
    "plt.xlim([0.0, 1.0])\n",
    "plt.ylim([0.0, 1.05])\n",
    "plt.xlabel('False Positive Rate')\n",
    "plt.ylabel('True Positive Rate')\n",
    "plt.show()"
   ]
  },
  {
   "cell_type": "markdown",
   "metadata": {},
   "source": [
    "**Bibliography**:\n",
    "> https://www.geeksforgeeks.org/lightgbm-light-gradient-boosting-machine/  \n",
    "> https://neptune.ai/blog/lightgbm-parameters-guide  \n",
    "> https://lightgbm.readthedocs.io/en/latest/Parameters-Tuning.html"
   ]
  }
 ],
 "metadata": {
  "kernelspec": {
   "display_name": "Python 3",
   "language": "python",
   "name": "python3"
  },
  "language_info": {
   "codemirror_mode": {
    "name": "ipython",
    "version": 3
   },
   "file_extension": ".py",
   "mimetype": "text/x-python",
   "name": "python",
   "nbconvert_exporter": "python",
   "pygments_lexer": "ipython3",
   "version": "3.8.5"
  }
 },
 "nbformat": 4,
 "nbformat_minor": 4
}
